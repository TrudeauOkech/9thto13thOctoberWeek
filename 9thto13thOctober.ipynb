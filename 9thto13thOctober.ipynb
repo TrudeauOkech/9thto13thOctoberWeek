{
  "nbformat": 4,
  "nbformat_minor": 0,
  "metadata": {
    "colab": {
      "provenance": [],
      "authorship_tag": "ABX9TyOmKv6/gREJgeG9KDDWsV8J",
      "include_colab_link": true
    },
    "kernelspec": {
      "name": "python3",
      "display_name": "Python 3"
    },
    "language_info": {
      "name": "python"
    }
  },
  "cells": [
    {
      "cell_type": "markdown",
      "metadata": {
        "id": "view-in-github",
        "colab_type": "text"
      },
      "source": [
        "<a href=\"https://colab.research.google.com/github/TrudeauOkech/9thto13thOctoberWeek/blob/main/9thto13thOctober.ipynb\" target=\"_parent\"><img src=\"https://colab.research.google.com/assets/colab-badge.svg\" alt=\"Open In Colab\"/></a>"
      ]
    },
    {
      "cell_type": "markdown",
      "source": [
        "## **Question 1**"
      ],
      "metadata": {
        "id": "vHatPPNjPI1M"
      }
    },
    {
      "cell_type": "code",
      "execution_count": 4,
      "metadata": {
        "colab": {
          "base_uri": "https://localhost:8080/"
        },
        "id": "5JZqA5JB-qN1",
        "outputId": "21f2fb99-c491-478d-a2b3-88f0344c8dfe"
      },
      "outputs": [
        {
          "output_type": "stream",
          "name": "stdout",
          "text": [
            "Code: \n",
            "Comment: # This is a Python program\n",
            "Code: def factorial(n):\n",
            "Code: \"\"\"Calculate the factorial of a number\"\"\"\n",
            "Code: if n == 0:\n",
            "Code: return 1\n",
            "Code: else:\n",
            "Code: return n * factorial(n - 1)\n",
            "Code: \n",
            "Comment: # Display the factorial of 5\n",
            "Code: result = factorial(5)\n",
            "Code: print(f\"The factorial of 5 is: {result}\")\n",
            "Code: \n",
            "Code: \n"
          ]
        }
      ],
      "source": [
        "def identify_comments(code):\n",
        "    lines = code.split('\\n')\n",
        "    for line in lines:\n",
        "        line = line.strip()\n",
        "        if line.startswith('#'):\n",
        "            print(f'Comment: {line}')\n",
        "        else:\n",
        "            print(f'Code: {line}')\n",
        "\n",
        "# Example Usage\n",
        "code = '''\n",
        "# This is a Python program\n",
        "def factorial(n):\n",
        "    \"\"\"Calculate the factorial of a number\"\"\"\n",
        "    if n == 0:\n",
        "        return 1\n",
        "    else:\n",
        "        return n * factorial(n - 1)\n",
        "\n",
        "# Display the factorial of 5\n",
        "result = factorial(5)\n",
        "print(f\"The factorial of 5 is: {result}\")\n",
        "\n",
        "'''\n",
        "\n",
        "identify_comments(code)\n"
      ]
    },
    {
      "cell_type": "markdown",
      "source": [
        "# **i. Describe the logic used.**"
      ],
      "metadata": {
        "id": "omDl1lzwOo1F"
      }
    },
    {
      "cell_type": "markdown",
      "source": [
        "The input code is split into lines using the newline character '\\n', resulting in a list of lines.\n",
        "\n",
        "The function then iterates through each line one by one.\n",
        "\n",
        "For each line, leading and trailing whitespace is stripped using line.strip() to ensure accurate identification of comments.\n",
        "\n",
        "The function checks if the stripped line starts with the '#' symbol. If it does, it's considered a Python comment.\n",
        "\n",
        "If the line starts with '#', the function prints it as a comment. If the line does not start with '#', it is considered code and is also printed."
      ],
      "metadata": {
        "id": "dffSvUB8OwXO"
      }
    },
    {
      "cell_type": "markdown",
      "source": [
        "# ii. Was lexical analysis or/and syntax analysis concepts important in your\n",
        "## logic? If yes, how?"
      ],
      "metadata": {
        "id": "F5BBDgJkPp6A"
      }
    },
    {
      "cell_type": "markdown",
      "source": [
        "Yes. Syntax analysis was essential for pattern matching"
      ],
      "metadata": {
        "id": "AzytwiESQVd3"
      }
    },
    {
      "cell_type": "markdown",
      "source": [
        "# Question 2"
      ],
      "metadata": {
        "id": "vcBlUJVJQdGQ"
      }
    },
    {
      "cell_type": "code",
      "source": [
        "def is_ok_identifier(identifier):\n",
        "    if not identifier:\n",
        "        return False\n",
        "\n",
        "    # Check if the first character is a letter or underscore\n",
        "    if not (identifier[0].isalpha() or identifier[0] == '_'):\n",
        "        return False\n",
        "\n",
        "    # Check the remaining characters\n",
        "    for char in identifier[1:]:\n",
        "        if not (char.isalnum() or char == '_'):\n",
        "            return False\n",
        "\n",
        "    return True\n",
        "\n",
        "# Example Usage\n",
        "identifier = \"abc_523\"\n",
        "if is_ok_identifier(identifier):\n",
        "    print(f\"'{identifier}' is a valid identifier.\")\n",
        "else:\n",
        "    print(f\"'{identifier}' is not a valid identifier.\")\n"
      ],
      "metadata": {
        "colab": {
          "base_uri": "https://localhost:8080/"
        },
        "id": "8P5tLFDSOreQ",
        "outputId": "b7eb498a-435b-4619-f746-0f32bb9d24bb"
      },
      "execution_count": 5,
      "outputs": [
        {
          "output_type": "stream",
          "name": "stdout",
          "text": [
            "'abc_523' is a valid identifier.\n"
          ]
        }
      ]
    },
    {
      "cell_type": "markdown",
      "source": [
        "Link to flex question https://github.com/TrudeauOkech/9thto13thOctoberWeek/tree/main"
      ],
      "metadata": {
        "id": "gVFRRzoaSvlM"
      }
    },
    {
      "cell_type": "markdown",
      "source": [
        "# *Question 3* : LL(1) Parsing Table Generator"
      ],
      "metadata": {
        "id": "5k71Q1IuTkxu"
      }
    },
    {
      "cell_type": "code",
      "source": [
        "#\n",
        "\n",
        "# Define a static context-free grammar\n",
        "grammar = {\n",
        "    'S': ['a E $'],\n",
        "    'E': ['+ E', 'b'],\n",
        "}\n",
        "\n",
        "# Define the terminals and non-terminals\n",
        "terminals = {'a', 'b', '+', '$'}\n",
        "non_terminals = {'S', 'E'}\n",
        "\n",
        "# Initialize the LL(1) parsing table\n",
        "ll1_table = {}\n",
        "\n",
        "# Populate the parsing table\n",
        "for non_term in non_terminals:\n",
        "    for term in terminals:\n",
        "        ll1_table[(non_term, term)] = []\n",
        "\n",
        "# Populate the LL(1) parsing table based on the grammar\n",
        "for non_term, productions in grammar.items():\n",
        "    for production in productions:\n",
        "        first_set = set()\n",
        "        for symbol in production.split():\n",
        "            if symbol in terminals:\n",
        "                first_set.add(symbol)\n",
        "                break\n",
        "            first_set.update(first_of(symbol))\n",
        "        for term in first_set:\n",
        "            ll1_table[(non_term, term)].append(production)\n",
        "\n",
        "# Display the LL(1) parsing table\n",
        "print(\"LL(1) Parsing Table:\")\n",
        "for (non_term, term), productions in ll1_table.items():\n",
        "    if len(productions) > 0:\n",
        "        print(f'M[{non_term}, {term}] = {productions}')\n",
        "\n",
        "\n",
        "# Function to calculate the FIRST set for a symbol\n",
        "def first_of(symbol):\n",
        "    if symbol in terminals:\n",
        "        return {symbol}\n",
        "    elif symbol in non_terminals:\n",
        "        first_set = set()\n",
        "        for production in grammar[symbol]:\n",
        "            first_set.update(first_of(production.split()[0]))\n",
        "        return first_set\n",
        "    elif symbol == '':\n",
        "        return {''}\n",
        "    return set()\n"
      ],
      "metadata": {
        "colab": {
          "base_uri": "https://localhost:8080/"
        },
        "id": "yFSHFF_pTZdr",
        "outputId": "ebdc1a3c-26be-4597-fa73-eeb9c554dd8f"
      },
      "execution_count": 14,
      "outputs": [
        {
          "output_type": "stream",
          "name": "stdout",
          "text": [
            "LL(1) Parsing Table:\n",
            "M[E, b] = ['b']\n",
            "M[E, +] = ['+ E']\n",
            "M[S, a] = ['a E $']\n"
          ]
        }
      ]
    },
    {
      "cell_type": "markdown",
      "source": [
        "# Question 4 A"
      ],
      "metadata": {
        "id": "8TicGFIfXXNv"
      }
    },
    {
      "cell_type": "markdown",
      "source": [
        "Link to flex file: https://github.com/TrudeauOkech/9thto13thOctoberWeek/blob/main/calculator.l"
      ],
      "metadata": {
        "id": "sCPFTVT3Xbg5"
      }
    },
    {
      "cell_type": "markdown",
      "source": [
        "Link to Yacc file: https://github.com/TrudeauOkech/9thto13thOctoberWeek/blob/main/calculator.y"
      ],
      "metadata": {
        "id": "Oy0xpH0hXg0s"
      }
    },
    {
      "cell_type": "markdown",
      "source": [
        "## Question 4B: Operator Precedence using Shunting Yard Algorithm"
      ],
      "metadata": {
        "id": "W32XUQSdXnFS"
      }
    },
    {
      "cell_type": "code",
      "source": [
        "class OperatorPrecedenceParser:\n",
        "    def __init__(self):\n",
        "        self.precedence = {'+': 1, '-': 1, '*': 2, '/': 2}\n",
        "\n",
        "    def parse_expression(self, expression):\n",
        "        output = []\n",
        "        operators = []\n",
        "        tokens = expression.split()\n",
        "\n",
        "        for token in tokens:\n",
        "            if token.isnumeric():\n",
        "                output.append(token)\n",
        "            elif token in self.precedence:\n",
        "                while (operators and operators[-1] in self.precedence and\n",
        "                       self.precedence[operators[-1]] >= self.precedence[token]):\n",
        "                    output.append(operators.pop())\n",
        "                operators.append(token)\n",
        "            elif token == '(':\n",
        "                operators.append(token)\n",
        "            elif token == ')':\n",
        "                while operators and operators[-1] != '(':\n",
        "                    output.append(operators.pop())\n",
        "                if operators and operators[-1] == '(':\n",
        "                    operators.pop()\n",
        "\n",
        "        while operators:\n",
        "            output.append(operators.pop())\n",
        "\n",
        "        return \" \".join(output)\n",
        "\n",
        "    def evaluate_expression(self, expression):\n",
        "        stack = []\n",
        "        tokens = expression.split()\n",
        "\n",
        "        for token in tokens:\n",
        "            if token.isnumeric():\n",
        "                stack.append(int(token))\n",
        "            elif token in self.precedence:\n",
        "                if len(stack) < 2:\n",
        "                    raise ValueError(\"Invalid expression\")\n",
        "                operand2 = stack.pop()\n",
        "                operand1 = stack.pop()\n",
        "                if token == '+':\n",
        "                    stack.append(operand1 + operand2)\n",
        "                elif token == '-':\n",
        "                    stack.append(operand1 - operand2)\n",
        "                elif token == '*':\n",
        "                    stack.append(operand1 * operand2)\n",
        "                elif token == '/':\n",
        "                    if operand2 == 0:\n",
        "                        raise ValueError(\"Division by zero\")\n",
        "                    stack.append(operand1 / operand2)\n",
        "\n",
        "        if len(stack) != 1:\n",
        "            raise ValueError(\"Invalid expression\")\n",
        "\n",
        "        return stack[0]\n",
        "\n",
        "# Example Usage\n",
        "parser = OperatorPrecedenceParser()\n",
        "expression = \"3 + 5 * ( 2 - 1 ) / 2\"\n",
        "parsed_expression = parser.parse_expression(expression)\n",
        "result = parser.evaluate_expression(parsed_expression)\n",
        "print(f\"Parsed Expression: {parsed_expression}\")\n",
        "print(f\"Result: {result}\")\n"
      ],
      "metadata": {
        "colab": {
          "base_uri": "https://localhost:8080/"
        },
        "id": "AlwvhditXf2A",
        "outputId": "1d1beb67-7681-4151-877d-2c505e295699"
      },
      "execution_count": 18,
      "outputs": [
        {
          "output_type": "stream",
          "name": "stdout",
          "text": [
            "Parsed Expression: 3 5 2 1 - * 2 / +\n",
            "Result: 5.5\n"
          ]
        }
      ]
    }
  ]
}